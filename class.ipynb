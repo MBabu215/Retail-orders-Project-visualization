{
 "cells": [
  {
   "cell_type": "code",
   "execution_count": null,
   "id": "7fecc45a",
   "metadata": {},
   "outputs": [],
   "source": [
    "#classes and object\n",
    "# #a class is a blueprint for creating an object, alogical entity/a group of similar objects\n",
    "# an object is a real world entity e,g a book/car - it is a physical entity.\n",
    "class Dog:\n",
    "    def __init__(self, name, breed):\n",
    "        self.name = name\n",
    "        self.breed = breed\n",
    "\n",
    "    def barks(self):\n",
    "        print(f'{self.name} says whoofs')"
   ]
  },
  {
   "cell_type": "code",
   "execution_count": 11,
   "id": "e14cca4b",
   "metadata": {},
   "outputs": [
    {
     "name": "stdout",
     "output_type": "stream",
     "text": [
      "Bosco says whoofs\n"
     ]
    }
   ],
   "source": [
    "dog1 = Dog('Bosco', 'Afrikanas')\n",
    "dog1.barks()"
   ]
  },
  {
   "cell_type": "code",
   "execution_count": null,
   "id": "4526e900",
   "metadata": {},
   "outputs": [],
   "source": [
    "class BankAccount:\n",
    "    def __init__(self, owner, balance=0):\n",
    "        self.owner = owner\n",
    "        self.balance = balance\n",
    "\n",
    "\n",
    "    \n"
   ]
  },
  {
   "cell_type": "code",
   "execution_count": 12,
   "id": "5fafacdc",
   "metadata": {},
   "outputs": [],
   "source": [
    "def deposit(self, amount):\n",
    "    self.balance += amount\n",
    "    print(f\"Deposited {amount}, New balance: {Self.balance}\")"
   ]
  },
  {
   "cell_type": "code",
   "execution_count": 20,
   "id": "7fdbff91",
   "metadata": {},
   "outputs": [],
   "source": [
    "def withdrawal(self, amount):\n",
    "    if amount > self.balance:\n",
    "        print(\"insufficient funds\")\n",
    "    else:\n",
    "        self.balance -= amount\n",
    "        print(f\"Withdrew {amount}.New balance: {self.balance}\")\n",
    "    \n"
   ]
  },
  {
   "cell_type": "code",
   "execution_count": null,
   "id": "63f06044",
   "metadata": {},
   "outputs": [],
   "source": [
    "#inheritance\n",
    "class Animal:\n",
    "    def __init__(self, name, age):\n",
    "        self.name = name\n",
    "        self.age = age\n",
    "\n",
    "    def speak(self):\n",
    "        print(f\"{self.name} makes a sound\")\n",
    "                  "
   ]
  },
  {
   "cell_type": "code",
   "execution_count": 25,
   "id": "df8e1172",
   "metadata": {},
   "outputs": [
    {
     "name": "stdout",
     "output_type": "stream",
     "text": [
      "Generic animal makes a sound\n"
     ]
    }
   ],
   "source": [
    "animal = Animal(\"Generic animal\", 10)\n",
    "# Call the speak method\n",
    "animal.speak()"
   ]
  },
  {
   "cell_type": "code",
   "execution_count": 27,
   "id": "3fff8274",
   "metadata": {},
   "outputs": [],
   "source": [
    "class Dog(Animal):\n",
    "    def speak(self):\n",
    "        print(f\"{self.name} says whoof\")"
   ]
  },
  {
   "cell_type": "code",
   "execution_count": 29,
   "id": "d8e74fd4",
   "metadata": {},
   "outputs": [
    {
     "name": "stdout",
     "output_type": "stream",
     "text": [
      "Bosco says whoof\n"
     ]
    }
   ],
   "source": [
    "dog = Dog(\"Bosco\", 4)\n",
    "dog.speak()"
   ]
  },
  {
   "cell_type": "code",
   "execution_count": 30,
   "id": "36dec19b",
   "metadata": {},
   "outputs": [],
   "source": [
    "class books:\n",
    "    def __init__(self, name, price):\n",
    "        self.name = name\n",
    "        self.price = price\n",
    "        def amount(self):\n",
    "            print(f\"this{self.name,} is {self.price}\")"
   ]
  },
  {
   "cell_type": "code",
   "execution_count": null,
   "id": "2f188c6d",
   "metadata": {},
   "outputs": [],
   "source": [
    "book = books(\"Wakanda\", 1500)\n",
    "book.amount()"
   ]
  },
  {
   "cell_type": "code",
   "execution_count": 50,
   "id": "9463d9bd",
   "metadata": {},
   "outputs": [],
   "source": [
    "class bird(Animal):\n",
    "    def __init__(self, name , age , weight,colour):\n",
    "        super().__init__(name, age,)\n",
    "        self.weight = weight\n",
    "        self.colour = colour"
   ]
  },
  {
   "cell_type": "code",
   "execution_count": 48,
   "id": "61118d67",
   "metadata": {},
   "outputs": [],
   "source": [
    "def speak(self):\n",
    "    super.speak()\n",
    "    print(f\"{self.name} is busy chirping in the morning\")\n",
    "    print(f\"{self.name} weighs {self. weight} and is {self.colour} colour\")"
   ]
  },
  {
   "cell_type": "code",
   "execution_count": null,
   "id": "4bce56a7",
   "metadata": {},
   "outputs": [],
   "source": [
    "bird = Bird(\"Parrot\", 2, \"1.5kgs\", \"green\")\n",
    "bird.speak()"
   ]
  },
  {
   "cell_type": "code",
   "execution_count": 52,
   "id": "56a944ac",
   "metadata": {},
   "outputs": [
    {
     "name": "stdout",
     "output_type": "stream",
     "text": [
      "Parrot makes a sound.\n",
      "Parrot is busy chirping in the morning\n",
      "Parrot weighs 1.5kgs and is green colour\n"
     ]
    }
   ],
   "source": [
    "class Animal:\n",
    "    def __init__(self, name, age):\n",
    "        self.name = name\n",
    "        self.age = age\n",
    "\n",
    "    def speak(self):\n",
    "        print(f\"{self.name} makes a sound.\")\n",
    "\n",
    "class Bird(Animal):\n",
    "    def __init__(self, name, age, weight, colour):\n",
    "        super().__init__(name, age)\n",
    "        self.weight = weight\n",
    "        self.colour = colour\n",
    "\n",
    "    def speak(self):\n",
    "        super().speak()\n",
    "        print(f\"{self.name} is busy chirping in the morning\")\n",
    "        print(f\"{self.name} weighs {self.weight} and is {self.colour} colour\")\n",
    "\n",
    "# Correct object creation\n",
    "bird = Bird(\"Parrot\", 2, \"1.5kgs\", \"green\")\n",
    "bird.speak()"
   ]
  },
  {
   "cell_type": "code",
   "execution_count": 75,
   "id": "12ca7b06",
   "metadata": {},
   "outputs": [],
   "source": [
    "class father:\n",
    "    def __init__(self, name):\n",
    "        self.name = name\n",
    "    \n",
    "    def gardening(self):\n",
    "        return \"i love gardening\"\n",
    "    \n",
    "class Mother:\n",
    "    def __init__(self, name1):\n",
    "        self.name = name1\n",
    "\n",
    "    def cooking(self):\n",
    "        return \"i love cooking\"\n",
    "\n",
    "class child (father, Mother):\n",
    "    def sports(self):\n",
    "        return \"i love sports\"\n",
    "\n",
    "\n"
   ]
  },
  {
   "cell_type": "code",
   "execution_count": 76,
   "id": "10c3e510",
   "metadata": {},
   "outputs": [
    {
     "name": "stdout",
     "output_type": "stream",
     "text": [
      "i love gardening\n",
      "i love cooking\n",
      "i love sports\n"
     ]
    }
   ],
   "source": [
    "child = child(\"John\")\n",
    "print(child.gardening())\n",
    "print(child.cooking())\n",
    "print(child.sports())"
   ]
  }
 ],
 "metadata": {
  "kernelspec": {
   "display_name": "base",
   "language": "python",
   "name": "python3"
  },
  "language_info": {
   "codemirror_mode": {
    "name": "ipython",
    "version": 3
   },
   "file_extension": ".py",
   "mimetype": "text/x-python",
   "name": "python",
   "nbconvert_exporter": "python",
   "pygments_lexer": "ipython3",
   "version": "3.12.7"
  }
 },
 "nbformat": 4,
 "nbformat_minor": 5
}
