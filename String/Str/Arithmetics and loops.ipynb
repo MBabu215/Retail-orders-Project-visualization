{
 "cells": [
  {
   "cell_type": "code",
   "execution_count": 1,
   "id": "b3713999",
   "metadata": {},
   "outputs": [
    {
     "name": "stdout",
     "output_type": "stream",
     "text": [
      "he said,\"it's raining\"\n"
     ]
    }
   ],
   "source": [
    "#correct the error in this code\n",
    "#Print(‘he said “it’s raining”’\n",
    "print(\"he said,\\\"it's raining\\\"\")\n",
    "\n"
   ]
  },
  {
   "cell_type": "code",
   "execution_count": 2,
   "id": "f2b04ce4",
   "metadata": {},
   "outputs": [
    {
     "name": "stdout",
     "output_type": "stream",
     "text": [
      "THE PRICE IS HIGH\n",
      "the price is high\n",
      "the price is high\n",
      "the price is low\n",
      "wow what a great day\n"
     ]
    }
   ],
   "source": [
    "### string methods: \n",
    "##.upper()\n",
    "##Converts all characters in a string to uppercase.\n",
    "price =\"the price is high\"\n",
    "print(price.upper())\n",
    "\n",
    "\n",
    "##.lower()\n",
    "##Converts all characters in a string to lowercase.\n",
    "price =\"the price is high\"\n",
    "print(price.lower())\n",
    "\n",
    "\n",
    "##.strip()\n",
    "##Removes any leading and trailing whitespace (spaces, tabs, newlines).\n",
    "price =\"  the price is high  \"\n",
    "print(price.strip())\n",
    "\n",
    "\n",
    "##.replace(old, new)\n",
    "##Replaces occurrences of a substring with another substring.\n",
    "price = \"the price is low\"\n",
    "print(price.replace(\"high\" , \"low\"))\n",
    "\n",
    "football = \"!!!wow what a great day @\"\n",
    "print(football.strip(\"! @\"))"
   ]
  },
  {
   "cell_type": "code",
   "execution_count": 3,
   "id": "7a1220c4",
   "metadata": {},
   "outputs": [
    {
     "name": "stdout",
     "output_type": "stream",
     "text": [
      "10.2\n"
     ]
    }
   ],
   "source": [
    "##examples of all arithmetic operations- mix floats and intergers\n",
    "#Addition\n",
    "result =6+4.2\n",
    "print(result)"
   ]
  },
  {
   "cell_type": "code",
   "execution_count": 4,
   "id": "91937e95",
   "metadata": {},
   "outputs": [
    {
     "name": "stdout",
     "output_type": "stream",
     "text": [
      "6\n"
     ]
    }
   ],
   "source": [
    "#subtraction\n",
    "result=11-5\n",
    "print(result)"
   ]
  },
  {
   "cell_type": "code",
   "execution_count": 5,
   "id": "45c722ad",
   "metadata": {},
   "outputs": [
    {
     "name": "stdout",
     "output_type": "stream",
     "text": [
      "13.5\n"
     ]
    }
   ],
   "source": [
    " #Multiplication\n",
    "result =3*4.5\n",
    "print(result)"
   ]
  },
  {
   "cell_type": "code",
   "execution_count": 6,
   "id": "bc230c44",
   "metadata": {},
   "outputs": [
    {
     "name": "stdout",
     "output_type": "stream",
     "text": [
      "2.0\n"
     ]
    }
   ],
   "source": [
    "#divisio (/)Always returns a float\n",
    "result = 8/4\n",
    "print(result)"
   ]
  },
  {
   "cell_type": "code",
   "execution_count": 7,
   "id": "60ad5b0e",
   "metadata": {},
   "outputs": [
    {
     "name": "stdout",
     "output_type": "stream",
     "text": [
      "4.0\n"
     ]
    }
   ],
   "source": [
    "#floor division (//)returns the largest whole number less than or equal to the result\n",
    "result = 9//2.0\n",
    "print(result)\n"
   ]
  },
  {
   "cell_type": "code",
   "execution_count": 8,
   "id": "0b5fa27d",
   "metadata": {},
   "outputs": [
    {
     "name": "stdout",
     "output_type": "stream",
     "text": [
      "1.0\n"
     ]
    }
   ],
   "source": [
    "#Modulus (%)-returns the remainder\n",
    "result = 10 % 3.0\n",
    "print(result)"
   ]
  },
  {
   "cell_type": "code",
   "execution_count": 9,
   "id": "655f96e9",
   "metadata": {},
   "outputs": [
    {
     "name": "stdout",
     "output_type": "stream",
     "text": [
      "862.3310384132595\n"
     ]
    }
   ],
   "source": [
    "##Exponentiation (**)\n",
    "result = 5 ** 4.2\n",
    "print(result)"
   ]
  },
  {
   "cell_type": "code",
   "execution_count": 10,
   "id": "aaeba521",
   "metadata": {},
   "outputs": [
    {
     "name": "stdout",
     "output_type": "stream",
     "text": [
      "5.0\n"
     ]
    }
   ],
   "source": [
    "## Casting-the process of converting one data type into another\n",
    "#integer to float\n",
    "x = 5\n",
    "y = float(x)\n",
    "print(y)"
   ]
  },
  {
   "cell_type": "code",
   "execution_count": 11,
   "id": "3b92302a",
   "metadata": {},
   "outputs": [
    {
     "name": "stdout",
     "output_type": "stream",
     "text": [
      "3\n"
     ]
    }
   ],
   "source": [
    "#float to integer\n",
    "x = 3.0\n",
    "y = int(x)\n",
    "print(y)"
   ]
  },
  {
   "cell_type": "code",
   "execution_count": 12,
   "id": "691c9431",
   "metadata": {},
   "outputs": [
    {
     "name": "stdout",
     "output_type": "stream",
     "text": [
      "50\n"
     ]
    }
   ],
   "source": [
    "#int to string\n",
    "x = 50\n",
    "y = str(x)\n",
    "print(y)"
   ]
  },
  {
   "cell_type": "code",
   "execution_count": 13,
   "id": "078685f0",
   "metadata": {},
   "outputs": [
    {
     "name": "stdout",
     "output_type": "stream",
     "text": [
      "200\n"
     ]
    }
   ],
   "source": [
    "#str to int\n",
    "x = \"200\"\n",
    "y = int(x)\n",
    "print (y)"
   ]
  },
  {
   "cell_type": "code",
   "execution_count": 14,
   "id": "c92bf8f1",
   "metadata": {},
   "outputs": [
    {
     "name": "stdout",
     "output_type": "stream",
     "text": [
      "3.14\n"
     ]
    }
   ],
   "source": [
    "#str to float\n",
    "x = \"3.14\" \n",
    "y =float(x)\n",
    "print(y)"
   ]
  },
  {
   "cell_type": "code",
   "execution_count": 15,
   "id": "d840f63a",
   "metadata": {},
   "outputs": [
    {
     "name": "stdout",
     "output_type": "stream",
     "text": [
      "9.81\n"
     ]
    }
   ],
   "source": [
    "# float to string\n",
    "x = 9.81\n",
    "y = str(x)\n",
    "print(y)\n"
   ]
  },
  {
   "cell_type": "code",
   "execution_count": 16,
   "id": "235e65ff",
   "metadata": {},
   "outputs": [
    {
     "name": "stdout",
     "output_type": "stream",
     "text": [
      "My name is Jane and I am 30 years old.\n"
     ]
    }
   ],
   "source": [
    "##5 formated f strings\n",
    "#simple variable insertion\n",
    "name = \"Jane\"\n",
    "age = 30\n",
    "print(f\"My name is {name} and I am {age} years old.\")"
   ]
  },
  {
   "cell_type": "code",
   "execution_count": 17,
   "id": "0b2b0dba",
   "metadata": {},
   "outputs": [
    {
     "name": "stdout",
     "output_type": "stream",
     "text": [
      "Today's date is June 03, 2025\n"
     ]
    }
   ],
   "source": [
    "##Floating Point with 2 Decimal Places\n",
    "# align text\n",
    "#date format \n",
    "import datetime\n",
    "\n",
    "today = datetime.date.today()\n",
    "print(f\"Today's date is {today:%B %d, %Y}\")\n",
    "\n",
    "#This uses an f-string with a date formatting specifier:\n",
    "#%B → full month name (e.g., May)\n",
    "#%d → two-digit day (e.g., 30)\n",
    "#%Y → four-digit year (e.g., 2025)"
   ]
  },
  {
   "cell_type": "code",
   "execution_count": 18,
   "id": "97c06ce0",
   "metadata": {},
   "outputs": [
    {
     "name": "stdout",
     "output_type": "stream",
     "text": [
      "(my name is Cutie and i am 35\n"
     ]
    }
   ],
   "source": [
    "name = \"Cutie\" \n",
    "age = 35\n",
    "print(f\"(my name is {name} and i am {age}\")\n",
    "     "
   ]
  },
  {
   "cell_type": "code",
   "execution_count": 19,
   "id": "63c5b7f3",
   "metadata": {},
   "outputs": [
    {
     "name": "stdout",
     "output_type": "stream",
     "text": [
      "Max Players Allowed: 12\n",
      "Escort Cars: ['lIMO', 'JEEP', 'LEXUS']\n",
      "Speed Limit: 120 km/h\n",
      "Phone Brands: ['SAMSUNG', 'HUAWEI', 'IPHONE']\n",
      "Months in a Year: 12\n"
     ]
    }
   ],
   "source": [
    "MAX_PLAYERS =12\n",
    "print(f\"Max Players Allowed: {MAX_PLAYERS}\")\n",
    "ESCORT_CARS = ['lIMO','JEEP','LEXUS']\n",
    "print(f\"Escort Cars: {ESCORT_CARS}\")\n",
    "SPEED_LIMIT = 120\n",
    "print(f\"Speed Limit: {SPEED_LIMIT} km/h\")\n",
    "PHONE_BRANDS = ['SAMSUNG', 'HUAWEI', 'IPHONE']\n",
    "print(f\"Phone Brands: {PHONE_BRANDS}\")\n",
    "MONTHS_IN_A_YEAR = 12\n",
    "print(f\"Months in a Year: {MONTHS_IN_A_YEAR}\")"
   ]
  },
  {
   "cell_type": "code",
   "execution_count": 20,
   "id": "209782b3",
   "metadata": {},
   "outputs": [
    {
     "name": "stdout",
     "output_type": "stream",
     "text": [
      "In 5 years, I'll be 40\n"
     ]
    }
   ],
   "source": [
    "print(f\"In 5 years, I'll be {age + 5}\")\n"
   ]
  },
  {
   "cell_type": "code",
   "execution_count": 21,
   "id": "a445f9ee",
   "metadata": {},
   "outputs": [
    {
     "name": "stdout",
     "output_type": "stream",
     "text": [
      "True\n",
      "False\n",
      "False\n"
     ]
    }
   ],
   "source": [
    "# Boolean \n",
    "print(10>9)\n",
    "print (10==9)\n",
    "print(10<9)"
   ]
  },
  {
   "cell_type": "code",
   "execution_count": 22,
   "id": "bdb44b81",
   "metadata": {},
   "outputs": [
    {
     "name": "stdout",
     "output_type": "stream",
     "text": [
      "True\n",
      "False\n"
     ]
    }
   ],
   "source": [
    "fruits =[\"apples\",\"grapes\",\"banana\"]\n",
    "print(\"banana\" in fruits)\n",
    "print(\"apples\" not in fruits)"
   ]
  },
  {
   "cell_type": "code",
   "execution_count": 23,
   "id": "4773687f",
   "metadata": {},
   "outputs": [
    {
     "name": "stdout",
     "output_type": "stream",
     "text": [
      "False\n",
      "True\n"
     ]
    }
   ],
   "source": [
    "a = True\n",
    "b = False\n",
    "print(a and b)\n",
    "print (a or b)\n"
   ]
  },
  {
   "cell_type": "code",
   "execution_count": 24,
   "id": "beb8969c",
   "metadata": {},
   "outputs": [
    {
     "name": "stdout",
     "output_type": "stream",
     "text": [
      "banana\n"
     ]
    }
   ],
   "source": [
    "#dictionaries'\n",
    "x = {'type' : 'fruits' , 'name' : 'banana'}\n",
    "print(x['name'])\n"
   ]
  },
  {
   "cell_type": "code",
   "execution_count": 25,
   "id": "1ad2ab55",
   "metadata": {},
   "outputs": [
    {
     "name": "stdout",
     "output_type": "stream",
     "text": [
      "The car is a 1964 Ford Mustang.\n"
     ]
    }
   ],
   "source": [
    "car = {\"brand\" : \"Ford\",\"model\": \"Mustang\", \"Year\" : 1964}\n",
    "print(f\"The car is a {car['Year']} {car['brand']} {car['model']}.\")\n"
   ]
  },
  {
   "cell_type": "code",
   "execution_count": 26,
   "id": "2dc0b994",
   "metadata": {},
   "outputs": [],
   "source": [
    "#Dictionaries\n",
    "car =\t{\"brand\": \"Ford\",\"model\": \"Mustang\", \"year\": 1964}\n",
    "student = {\"name\": \"John\",\"grades\": [85, 90, 78],\"subjects\": [\"Math\", \"Science\", \"English\"]}\n",
    "person = {\"name\": \"Cess\",\"age\": 30,\"city\": \"New York\"}\n",
    "product = {\"id\": 201,\"name\": \"phone\",\"price\": 20.000,\"in_stock\": True}\n"
   ]
  },
  {
   "cell_type": "code",
   "execution_count": 27,
   "id": "5f03065b",
   "metadata": {},
   "outputs": [
    {
     "name": "stdout",
     "output_type": "stream",
     "text": [
      "green\n",
      "pink\n",
      "pink\n"
     ]
    }
   ],
   "source": [
    "#Indexing lets you access individual items in a list using their position.\n",
    "\n",
    "colours = ['green', 'purple' , 'pink']\n",
    "print(colours [0])\n",
    "print(colours[2])\n",
    "\n",
    "#Negative indexing:(last item)\n",
    "print(colours[-1])"
   ]
  },
  {
   "cell_type": "code",
   "execution_count": 28,
   "id": "7398f003",
   "metadata": {},
   "outputs": [
    {
     "data": {
      "text/plain": [
       "['green', 'pink']"
      ]
     },
     "execution_count": 28,
     "metadata": {},
     "output_type": "execute_result"
    }
   ],
   "source": [
    "#Slicing allows you to get a subset of the list (a slice)\n",
    "#list[start:] → starts at `start` index, goes to the end.\n",
    "#list[:stop]  → starts at beginning, ends **before** `stop`\n",
    "\n",
    "colours[::2]\n"
   ]
  },
  {
   "cell_type": "code",
   "execution_count": 29,
   "id": "7d6c2d47",
   "metadata": {},
   "outputs": [
    {
     "ename": "KeyError",
     "evalue": "'Year'",
     "output_type": "error",
     "traceback": [
      "\u001b[1;31m---------------------------------------------------------------------------\u001b[0m",
      "\u001b[1;31mKeyError\u001b[0m                                  Traceback (most recent call last)",
      "Cell \u001b[1;32mIn[29], line 2\u001b[0m\n\u001b[0;32m      1\u001b[0m \u001b[38;5;66;03m#F strings\u001b[39;00m\n\u001b[1;32m----> 2\u001b[0m \u001b[38;5;28mprint\u001b[39m(\u001b[38;5;124mf\u001b[39m\u001b[38;5;124m\"\u001b[39m\u001b[38;5;124mThe car is a \u001b[39m\u001b[38;5;132;01m{\u001b[39;00mcar[\u001b[38;5;124m'\u001b[39m\u001b[38;5;124mYear\u001b[39m\u001b[38;5;124m'\u001b[39m]\u001b[38;5;132;01m}\u001b[39;00m\u001b[38;5;124m \u001b[39m\u001b[38;5;132;01m{\u001b[39;00mcar[\u001b[38;5;124m'\u001b[39m\u001b[38;5;124mbrand\u001b[39m\u001b[38;5;124m'\u001b[39m]\u001b[38;5;132;01m}\u001b[39;00m\u001b[38;5;124m \u001b[39m\u001b[38;5;132;01m{\u001b[39;00mcar[\u001b[38;5;124m'\u001b[39m\u001b[38;5;124mmodel\u001b[39m\u001b[38;5;124m'\u001b[39m]\u001b[38;5;132;01m}\u001b[39;00m\u001b[38;5;124m.\u001b[39m\u001b[38;5;124m\"\u001b[39m)\n\u001b[0;32m      3\u001b[0m \u001b[38;5;28mprint\u001b[39m(\u001b[38;5;124mf\u001b[39m\u001b[38;5;124m\"\u001b[39m\u001b[38;5;124mThe person\u001b[39m\u001b[38;5;124m'\u001b[39m\u001b[38;5;124ms name is \u001b[39m\u001b[38;5;132;01m{\u001b[39;00mperson[\u001b[38;5;124m'\u001b[39m\u001b[38;5;124mname\u001b[39m\u001b[38;5;124m'\u001b[39m]\u001b[38;5;132;01m}\u001b[39;00m\u001b[38;5;124m and age is \u001b[39m\u001b[38;5;132;01m{\u001b[39;00mperson[\u001b[38;5;124m'\u001b[39m\u001b[38;5;124mage\u001b[39m\u001b[38;5;124m'\u001b[39m]\u001b[38;5;132;01m}\u001b[39;00m\u001b[38;5;124m.\u001b[39m\u001b[38;5;124m\"\u001b[39m)\n\u001b[0;32m      4\u001b[0m \u001b[38;5;28mprint\u001b[39m(\u001b[38;5;124mf\u001b[39m\u001b[38;5;124m\"\u001b[39m\u001b[38;5;132;01m{\u001b[39;00mstudent[\u001b[38;5;124m'\u001b[39m\u001b[38;5;124mname\u001b[39m\u001b[38;5;124m'\u001b[39m]\u001b[38;5;132;01m}\u001b[39;00m\u001b[38;5;124m'\u001b[39m\u001b[38;5;124ms grades are \u001b[39m\u001b[38;5;132;01m{\u001b[39;00mstudent[\u001b[38;5;124m'\u001b[39m\u001b[38;5;124mgrades\u001b[39m\u001b[38;5;124m'\u001b[39m]\u001b[38;5;132;01m}\u001b[39;00m\u001b[38;5;124m and subjects are \u001b[39m\u001b[38;5;132;01m{\u001b[39;00mstudent[\u001b[38;5;124m'\u001b[39m\u001b[38;5;124msubjects\u001b[39m\u001b[38;5;124m'\u001b[39m]\u001b[38;5;132;01m}\u001b[39;00m\u001b[38;5;124m.\u001b[39m\u001b[38;5;124m\"\u001b[39m)\n",
      "\u001b[1;31mKeyError\u001b[0m: 'Year'"
     ]
    }
   ],
   "source": [
    " #F strings\n",
    "print(f\"The car is a {car['Year']} {car['brand']} {car['model']}.\")\n",
    "print(f\"The person's name is {person['name']} and age is {person['age']}.\")\n",
    "print(f\"{student['name']}'s grades are {student['grades']} and subjects are {student['subjects']}.\")\n",
    "print(f\"Product: {product['name']} costs ${product['price']} and in stock: {product['in_stock']}.\")"
   ]
  },
  {
   "cell_type": "code",
   "execution_count": null,
   "id": "d058ebdd",
   "metadata": {},
   "outputs": [
    {
     "name": "stdout",
     "output_type": "stream",
     "text": [
      "201\n",
      "phone\n",
      "20.0\n",
      "True\n"
     ]
    }
   ],
   "source": [
    "#To access values from a dictionary in Python, you use the key inside square brackets [ ].\n",
    "product = {\"id\": 201, \"name\": \"phone\", \"price\": 20.000, \"in_stock\": True}\n",
    "\n",
    "print(product['id'])        # 201\n",
    "print(product['name'])      # phone\n",
    "print(product['price'])     # 20.0\n",
    "print(product['in_stock'])  # True"
   ]
  },
  {
   "cell_type": "code",
   "execution_count": null,
   "id": "a1a49e03",
   "metadata": {},
   "outputs": [
    {
     "name": "stdout",
     "output_type": "stream",
     "text": [
      "banana\n",
      "buy a different size\n",
      "apple\n",
      "the apple is too large\n",
      "cherry\n",
      "buy a different size\n"
     ]
    }
   ],
   "source": [
    "###loops using sets, dictionary and tuple \n",
    "#for\n",
    "\n",
    "fruits = {\"apple\", \"banana\", \"cherry\"}\n",
    "for fruit in fruits: \n",
    "    print(fruit)\n",
    "    if fruit == \"apple\":\n",
    "        print(\"the apple is too large\")\n",
    "    elif fruit != \"apple\":\n",
    "        print(\"buy a different size\")\n",
    "    else:\n",
    "        print('the apple is still needed')\n",
    "    \n",
    "\n"
   ]
  },
  {
   "cell_type": "code",
   "execution_count": null,
   "id": "38db5f3d",
   "metadata": {},
   "outputs": [
    {
     "name": "stdout",
     "output_type": "stream",
     "text": [
      "Hello , Mary\n",
      "print all names\n",
      "Hello , Cate\n",
      "i am the first born\n"
     ]
    }
   ],
   "source": [
    "#loops/for\n",
    "names = ['Mary', 'Cate' , 'Agatha']\n",
    "for name in names:\n",
    "    print(f'Hello , {name}')\n",
    "    if name == \"Mary\":\n",
    "        print(\"print all names\")\n",
    "    elif name != \"Mary\":\n",
    "        print(\"i am the first born\")\n",
    "        break\n",
    "else:\n",
    "    pass  "
   ]
  },
  {
   "cell_type": "code",
   "execution_count": null,
   "id": "a24c6651",
   "metadata": {},
   "outputs": [
    {
     "name": "stdout",
     "output_type": "stream",
     "text": [
      "70 is a minimum score\n"
     ]
    }
   ],
   "source": [
    "# For...tuple loop\n",
    "num = (30, 45, 60, 50, 70)\n",
    "sum = 0\n",
    "for i in num:\n",
    "    sum = sum + i\n",
    "if i >= 45:\n",
    "     print(f\"{i} is a minimum score\")"
   ]
  },
  {
   "cell_type": "code",
   "execution_count": null,
   "id": "e2bf8741",
   "metadata": {},
   "outputs": [
    {
     "name": "stdout",
     "output_type": "stream",
     "text": [
      "27370.0\n",
      "671038.62\n",
      "10308.97\n",
      "89633.18\n",
      "45997.07\n"
     ]
    }
   ],
   "source": [
    "## for loop\n",
    "salary = [23000, 563898, 8663, 75322, 38653]\n",
    "\n",
    "for salo in salary:\n",
    "    salo_increase = salo*1.19\n",
    "    print(salo_increase)"
   ]
  },
  {
   "cell_type": "code",
   "execution_count": null,
   "id": "cefdae14",
   "metadata": {},
   "outputs": [
    {
     "name": "stdout",
     "output_type": "stream",
     "text": [
      "Hello Mary, you're amazing!\n",
      "Hi Cate, have a great day!\n",
      "Welcome Agatha, nice to see you!\n"
     ]
    }
   ],
   "source": [
    "#if loops\n",
    "names: list[str] = ['Mary', 'Cate', 'Agatha']\n",
    "\n",
    "for name in names:\n",
    "    if name == 'Mary':\n",
    "        print(f\"Hello {name}, you're amazing!\")\n",
    "    elif name == 'Cate':\n",
    "        print(f\"Hi {name}, have a great day!\")\n",
    "    elif name == 'Agatha':\n",
    "        print(f\"Welcome {name}, nice to see you!\")\n",
    "    else:\n",
    "        print(f\"Hello {name}\")"
   ]
  },
  {
   "cell_type": "code",
   "execution_count": null,
   "id": "2710b817",
   "metadata": {},
   "outputs": [
    {
     "name": "stdout",
     "output_type": "stream",
     "text": [
      "Get retired\n"
     ]
    }
   ],
   "source": [
    "##If\n",
    "age = 79\n",
    "if 18 < age < 26:\n",
    "    print('Big enough')\n",
    "elif 27 < age < 57:\n",
    "    print('Get married')\n",
    "elif 58 < age < 100:\n",
    "    print('Get retired')\n",
    "else:\n",
    "    print('Still babies')"
   ]
  },
  {
   "cell_type": "code",
   "execution_count": null,
   "id": "5b5c9edd",
   "metadata": {},
   "outputs": [
    {
     "name": "stdout",
     "output_type": "stream",
     "text": [
      "False\n",
      "False\n",
      "True\n",
      "True\n",
      "False\n",
      "True\n",
      "3\n"
     ]
    }
   ],
   "source": [
    "#While loop\n",
    "    # true:-some sort of condition\n",
    "a: int = 1\n",
    "b: int = 2\n",
    "print(a > b)\n",
    "print(a >= b)\n",
    "print(a < b)\n",
    "print(a <= b)\n",
    "print(a == b)\n",
    "print(a != b)\n",
    "print(a + b)"
   ]
  },
  {
   "cell_type": "code",
   "execution_count": null,
   "id": "987313dd",
   "metadata": {},
   "outputs": [
    {
     "name": "stdout",
     "output_type": "stream",
     "text": [
      "1\n",
      "2\n",
      "3\n",
      "4\n",
      "loop ended without a break\n"
     ]
    }
   ],
   "source": [
    "count = 1  # Start with a value <= 4\n",
    "\n",
    "while count <= 4:\n",
    "    print(count)\n",
    "    count += 1\n",
    "else:\n",
    "    print(\"loop ended without a break\")"
   ]
  },
  {
   "cell_type": "code",
   "execution_count": null,
   "id": "7dcc3599",
   "metadata": {},
   "outputs": [
    {
     "name": "stdout",
     "output_type": "stream",
     "text": [
      "access granted.\n",
      "Access granted.\n"
     ]
    }
   ],
   "source": [
    "#Real-Life Use Case: Retry Until Success\n",
    "attempts = 0\n",
    "\n",
    "while attempts <=3:\n",
    "    pin = input(\"Enter PIN:\")\n",
    "    print(\"access granted.\")\n",
    "    if pin ==\"4567\":\n",
    "\n",
    "        print(\"Access granted.\")\n",
    "        break\n",
    "    else:\n",
    "        print(\"Wrong Pin\")\n",
    "    attempts +=1\n",
    "else:\n",
    "    print(\"Too many attempts\")"
   ]
  },
  {
   "cell_type": "code",
   "execution_count": null,
   "id": "7a5755d0",
   "metadata": {},
   "outputs": [
    {
     "name": "stdout",
     "output_type": "stream",
     "text": [
      "apple\n",
      "banana\n",
      "cherry\n",
      "there is no list\n"
     ]
    }
   ],
   "source": [
    "fruits = {\"apple\", \"banana\", \"cherry\"}\n",
    "finding = input()\n",
    "for fruit in fruits:\n",
    "    if finding == \"list\":\n",
    "        print(fruit)\n",
    "\n",
    "    elif fruit == finding:\n",
    "        print(f\"here is {finding}\")\n",
    "        break\n",
    "else:\n",
    "    print(f\"there is no {finding}\")"
   ]
  },
  {
   "cell_type": "code",
   "execution_count": null,
   "id": "26fb2761",
   "metadata": {},
   "outputs": [
    {
     "name": "stdout",
     "output_type": "stream",
     "text": [
      "1\n",
      "2\n",
      "3\n"
     ]
    }
   ],
   "source": [
    "i =1\n",
    "while i < 6:\n",
    "    print(i)\n",
    "    if i == 3:\n",
    "        break\n",
    "    i += 1 ## Increment the value of the variable \"number by 1\""
   ]
  },
  {
   "cell_type": "code",
   "execution_count": 1,
   "id": "a937c74b",
   "metadata": {},
   "outputs": [
    {
     "name": "stdout",
     "output_type": "stream",
     "text": [
      "Sum:  9\n"
     ]
    }
   ],
   "source": [
    "# function with two arguments\n",
    "\n",
    "def add_numbers(num1, num2):\n",
    "    sum = num1 + num2\n",
    "    print(\"Sum: \", sum)\n",
    "\n",
    "# function call with two values\n",
    "add_numbers(5, 4)"
   ]
  },
  {
   "cell_type": "code",
   "execution_count": 10,
   "id": "8f6f2066",
   "metadata": {},
   "outputs": [
    {
     "name": "stdout",
     "output_type": "stream",
     "text": [
      "8\n"
     ]
    }
   ],
   "source": [
    "def add(a, b):\n",
    "    result = a+b\n",
    "    print(result)\n",
    "    \n",
    "add(3,5)"
   ]
  },
  {
   "cell_type": "code",
   "execution_count": 12,
   "id": "08749965",
   "metadata": {},
   "outputs": [
    {
     "name": "stdout",
     "output_type": "stream",
     "text": [
      "25 is an odd number\n"
     ]
    }
   ],
   "source": [
    "def is_even(n):\n",
    "    if n % 2 == 0:\n",
    "        print(f'{n} is even')\n",
    "    else:\n",
    "        print(f'{n} is an odd number')\n",
    "\n",
    "is_even(25)"
   ]
  },
  {
   "cell_type": "code",
   "execution_count": 13,
   "id": "5883fc43",
   "metadata": {},
   "outputs": [
    {
     "name": "stdout",
     "output_type": "stream",
     "text": [
      "4 is even\n"
     ]
    }
   ],
   "source": [
    "def is_even(n=4):\n",
    "    if n % 2 == 0:\n",
    "        print(f'{n} is even')\n",
    "    else:\n",
    "        print(f'{n} is an odd number')\n",
    "\n",
    "is_even()"
   ]
  },
  {
   "cell_type": "code",
   "execution_count": 15,
   "id": "7b83ff43",
   "metadata": {},
   "outputs": [],
   "source": [
    "#Local variables\n",
    "def say_hello():\n",
    "    message =\"Hello!\"\n",
    "    print(message)\n",
    "\n",
    "    say_hello()"
   ]
  }
 ],
 "metadata": {
  "kernelspec": {
   "display_name": "base",
   "language": "python",
   "name": "python3"
  },
  "language_info": {
   "codemirror_mode": {
    "name": "ipython",
    "version": 3
   },
   "file_extension": ".py",
   "mimetype": "text/x-python",
   "name": "python",
   "nbconvert_exporter": "python",
   "pygments_lexer": "ipython3",
   "version": "3.12.7"
  }
 },
 "nbformat": 4,
 "nbformat_minor": 5
}
