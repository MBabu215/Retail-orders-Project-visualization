{
 "cells": [
  {
   "cell_type": "markdown",
   "id": "3fb70549",
   "metadata": {},
   "source": [
    "### Data types"
   ]
  },
  {
   "cell_type": "code",
   "execution_count": 10,
   "id": "3836e4e5",
   "metadata": {},
   "outputs": [
    {
     "data": {
      "text/plain": [
       "int"
      ]
     },
     "execution_count": 10,
     "metadata": {},
     "output_type": "execute_result"
    }
   ],
   "source": [
    "Age = 25\n",
    "Age \n",
    "type(Age)"
   ]
  },
  {
   "cell_type": "code",
   "execution_count": 14,
   "id": "13038eb3",
   "metadata": {},
   "outputs": [
    {
     "name": "stdout",
     "output_type": "stream",
     "text": [
      "this is a list ['Person', 25, 3.14, False]\n"
     ]
    }
   ],
   "source": [
    "Different = ['Person', 25 ,3.14 ,False]\n",
    "type(Different)\n",
    "print(f'this is a list {Different}')"
   ]
  },
  {
   "cell_type": "code",
   "execution_count": 15,
   "id": "a1e03f59",
   "metadata": {},
   "outputs": [],
   "source": [
    "my_name = 'cutie'"
   ]
  },
  {
   "cell_type": "code",
   "execution_count": 19,
   "id": "adf20751",
   "metadata": {},
   "outputs": [
    {
     "name": "stdout",
     "output_type": "stream",
     "text": [
      "<class 'str'>\n"
     ]
    },
    {
     "data": {
      "text/plain": [
       "'set_pace'"
      ]
     },
     "execution_count": 19,
     "metadata": {},
     "output_type": "execute_result"
    }
   ],
   "source": [
    "Again = 'set_pace'\n",
    "print(type(Again))\n",
    "Again\n"
   ]
  },
  {
   "cell_type": "code",
   "execution_count": 23,
   "id": "05589b18",
   "metadata": {},
   "outputs": [
    {
     "name": "stdout",
     "output_type": "stream",
     "text": [
      "<class 'tuple'>\n"
     ]
    }
   ],
   "source": [
    "Fruits = ('Mango', 'Apple', 'Pawpaw')\n",
    "print(type(Fruits))"
   ]
  },
  {
   "cell_type": "code",
   "execution_count": 3,
   "id": "fa8b9f18",
   "metadata": {},
   "outputs": [
    {
     "name": "stdout",
     "output_type": "stream",
     "text": [
      "hello, James!\n"
     ]
    }
   ],
   "source": [
    "name = 'James'\n",
    "print('hello, ' + name + '!')"
   ]
  },
  {
   "cell_type": "code",
   "execution_count": 7,
   "id": "f9e81a2a",
   "metadata": {},
   "outputs": [
    {
     "name": "stdout",
     "output_type": "stream",
     "text": [
      "Name: James , Age: 10\n"
     ]
    }
   ],
   "source": [
    "age :  int = 10\n",
    "name: 'Bob'\n",
    "print(f'Name: {name} , Age: {age}')\n",
    "\n"
   ]
  }
 ],
 "metadata": {
  "kernelspec": {
   "display_name": "base",
   "language": "python",
   "name": "python3"
  },
  "language_info": {
   "codemirror_mode": {
    "name": "ipython",
    "version": 3
   },
   "file_extension": ".py",
   "mimetype": "text/x-python",
   "name": "python",
   "nbconvert_exporter": "python",
   "pygments_lexer": "ipython3",
   "version": "3.12.7"
  }
 },
 "nbformat": 4,
 "nbformat_minor": 5
}
