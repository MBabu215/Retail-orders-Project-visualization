{
 "cells": [
  {
   "cell_type": "markdown",
   "id": "9fbdbf6a",
   "metadata": {},
   "source": [
    "## variables "
   ]
  },
  {
   "cell_type": "code",
   "execution_count": 13,
   "id": "d5ce2a98",
   "metadata": {},
   "outputs": [
    {
     "name": "stdout",
     "output_type": "stream",
     "text": [
      "10\n"
     ]
    }
   ],
   "source": [
    "# assigning variables\n",
    "x = 10\n",
    "print(x)"
   ]
  },
  {
   "cell_type": "code",
   "execution_count": 14,
   "id": "6baf23d6",
   "metadata": {},
   "outputs": [
    {
     "name": "stdout",
     "output_type": "stream",
     "text": [
      "puppy\n"
     ]
    }
   ],
   "source": [
    "x = 'puppy'\n",
    "print(x)"
   ]
  },
  {
   "cell_type": "code",
   "execution_count": 15,
   "id": "3ed7c971",
   "metadata": {},
   "outputs": [
    {
     "name": "stdout",
     "output_type": "stream",
     "text": [
      "<class 'bool'>\n"
     ]
    }
   ],
   "source": [
    "a = 2\n",
    "b = 3.4\n",
    "C = \"my name is maryam\"\n",
    "t = False\n",
    "print(type(t))"
   ]
  },
  {
   "cell_type": "code",
   "execution_count": 16,
   "id": "9742c539",
   "metadata": {},
   "outputs": [
    {
     "name": "stdout",
     "output_type": "stream",
     "text": [
      "<class 'list'>\n"
     ]
    }
   ],
   "source": [
    "# list\n",
    "pet_name = ['simba', 'chura', 'huskie,' 'boobo,' 'Fluffy']\n",
    "print(type(pet_name))"
   ]
  },
  {
   "cell_type": "code",
   "execution_count": 17,
   "id": "6926c4ea",
   "metadata": {},
   "outputs": [
    {
     "name": "stdout",
     "output_type": "stream",
     "text": [
      "<class 'dict'>\n"
     ]
    }
   ],
   "source": [
    "# dictionary\n",
    "age = {'Tiffany': 30, 'Alfred': 20, 'Jana': 40, 'Mary': 29}\n",
    "print(type(age))"
   ]
  },
  {
   "cell_type": "code",
   "execution_count": 18,
   "id": "02cf3e3a",
   "metadata": {},
   "outputs": [
    {
     "name": "stdout",
     "output_type": "stream",
     "text": [
      "<class 'tuple'>\n"
     ]
    }
   ],
   "source": [
    "# Tuple\n",
    "#store items that are unchangeable\n",
    "age = (20,30,40,50,60,70,80)\n",
    "print (type(age))"
   ]
  },
  {
   "cell_type": "code",
   "execution_count": 19,
   "id": "983dbaa9",
   "metadata": {},
   "outputs": [
    {
     "name": "stdout",
     "output_type": "stream",
     "text": [
      "(11, 45, 11, 45, 37.94)\n",
      "<class 'tuple'>\n"
     ]
    }
   ],
   "source": [
    "# set\n",
    "# remove duplicates\n",
    "age = (11,45,11,45,37.94)\n",
    "print (age)\n",
    "print(type(age))"
   ]
  },
  {
   "cell_type": "code",
   "execution_count": 20,
   "id": "fdf5c94a",
   "metadata": {},
   "outputs": [
    {
     "name": "stdout",
     "output_type": "stream",
     "text": [
      "Cutie\n"
     ]
    }
   ],
   "source": [
    "x = \"Cutie\"\n",
    "print(x)"
   ]
  },
  {
   "cell_type": "markdown",
   "id": "6c2bb8e4",
   "metadata": {},
   "source": [
    "### u can execute text\n",
    "#3# 1.PEP  8 rules-official style for python\n",
    "- indentation\n",
    ".line length-79 char,72 char(docs string /comments)\n",
    "this is a line of code:\n",
    "-imports\n",
    "-white spaces\n",
    "#3# 2.rules of names identifiers\n",
    "names used to identify one variables, functions,classes ,modules or other object"
   ]
  },
  {
   "cell_type": "code",
   "execution_count": 21,
   "id": "aa3df4be",
   "metadata": {},
   "outputs": [],
   "source": [
    "my_first_code = 'was so excited'\n",
    "MY_FIRST_CODE = 'was so excited'\n",
    "def my_first_coding():\n",
    "    return 'was so excited'"
   ]
  },
  {
   "cell_type": "code",
   "execution_count": 22,
   "id": "3772db8f",
   "metadata": {},
   "outputs": [
    {
     "data": {
      "text/plain": [
       "'was so excited'"
      ]
     },
     "execution_count": 22,
     "metadata": {},
     "output_type": "execute_result"
    }
   ],
   "source": [
    "my_first_code"
   ]
  },
  {
   "cell_type": "code",
   "execution_count": 23,
   "id": "889f68cc",
   "metadata": {},
   "outputs": [],
   "source": [
    "my_name = \"Maryam's car\""
   ]
  },
  {
   "cell_type": "code",
   "execution_count": 24,
   "id": "db0e07d1",
   "metadata": {},
   "outputs": [],
   "source": [
    "###int\n",
    "#str = always use quotations\n",
    "#float\n",
    "#boolean\n",
    "#set\n",
    "#dictionary\n"
   ]
  },
  {
   "cell_type": "code",
   "execution_count": 25,
   "id": "2417870b",
   "metadata": {},
   "outputs": [
    {
     "name": "stdout",
     "output_type": "stream",
     "text": [
      "Maryam's car\n"
     ]
    }
   ],
   "source": [
    "print(my_name)"
   ]
  },
  {
   "cell_type": "code",
   "execution_count": 26,
   "id": "71dd2125",
   "metadata": {},
   "outputs": [
    {
     "data": {
      "text/plain": [
       "\"Maryam's car\""
      ]
     },
     "execution_count": 26,
     "metadata": {},
     "output_type": "execute_result"
    }
   ],
   "source": [
    "my_name"
   ]
  },
  {
   "cell_type": "code",
   "execution_count": 27,
   "id": "f3858b66",
   "metadata": {},
   "outputs": [],
   "source": [
    "#functions to calculate-Variable - stores data in\n",
    "revenue =37000.00\n",
    "cost = 930.00"
   ]
  },
  {
   "cell_type": "code",
   "execution_count": 28,
   "id": "75a5d493",
   "metadata": {},
   "outputs": [
    {
     "data": {
      "text/plain": [
       "36070.0"
      ]
     },
     "execution_count": 28,
     "metadata": {},
     "output_type": "execute_result"
    }
   ],
   "source": [
    "profit  = revenue - cost\n",
    "profit"
   ]
  },
  {
   "cell_type": "code",
   "execution_count": null,
   "id": "e4eda50f",
   "metadata": {},
   "outputs": [
    {
     "name": "stdout",
     "output_type": "stream",
     "text": [
      "........Age identifier....\n"
     ]
    }
   ],
   "source": [
    "print(\"........Age identifier....\")\n",
    "Current_year = int(input('enter Current_year :'))\n",
    "Born_year = int(input('enter Born_year :'))\n",
    "Age = Current_year - Born_year\n",
    "print(Age)"
   ]
  },
  {
   "cell_type": "markdown",
   "id": "c1af85fa",
   "metadata": {},
   "source": [
    "###data structures\n",
    "1.List-[]- ordered - mutable\n",
    "2.Dictionary {}- unordered -mutable- a key value pair- {'Age':30 }\n",
    "3.Tuple- ()-unordered -imutable\n",
    "4.Set-{}-Ordered, no duplicates"
   ]
  },
  {
   "cell_type": "code",
   "execution_count": null,
   "id": "d79a1903",
   "metadata": {},
   "outputs": [
    {
     "data": {
      "text/plain": [
       "('Mango', 'Cherry', 'Apples')"
      ]
     },
     "execution_count": 15,
     "metadata": {},
     "output_type": "execute_result"
    }
   ],
   "source": [
    "\n",
    "fruits = ('Mango', 'Cherry', 'Apples')\n",
    "fruits_t = ('Mango','Cherry', \"Apples\")\n",
    "fruits"
   ]
  },
  {
   "cell_type": "code",
   "execution_count": null,
   "id": "c49b7331",
   "metadata": {},
   "outputs": [],
   "source": [
    "#dict\n",
    "user = {\n",
    "    'name':'Peter',\n",
    "    'Age':'40',\n",
    " 'Location':'Kilimani'}"
   ]
  },
  {
   "cell_type": "code",
   "execution_count": null,
   "id": "3e0341d2",
   "metadata": {},
   "outputs": [
    {
     "data": {
      "text/plain": [
       "{'name': 'Peter', 'Age': '40', 'Location': 'Kilimani'}"
      ]
     },
     "execution_count": 21,
     "metadata": {},
     "output_type": "execute_result"
    }
   ],
   "source": [
    "user"
   ]
  },
  {
   "cell_type": "code",
   "execution_count": null,
   "id": "b5c9583b",
   "metadata": {},
   "outputs": [
    {
     "data": {
      "text/plain": [
       "dict_values(['Peter', '40', 'Kilimani'])"
      ]
     },
     "execution_count": 10,
     "metadata": {},
     "output_type": "execute_result"
    }
   ],
   "source": [
    "user.values()"
   ]
  },
  {
   "cell_type": "code",
   "execution_count": null,
   "id": "58ecbfb7",
   "metadata": {},
   "outputs": [
    {
     "name": "stdout",
     "output_type": "stream",
     "text": [
      "Requirement already satisfied: pandas in c:\\users\\saddiqq\\anaconda3\\lib\\site-packages (2.2.2)\n",
      "Requirement already satisfied: numpy>=1.26.0 in c:\\users\\saddiqq\\anaconda3\\lib\\site-packages (from pandas) (1.26.4)\n",
      "Requirement already satisfied: python-dateutil>=2.8.2 in c:\\users\\saddiqq\\anaconda3\\lib\\site-packages (from pandas) (2.9.0.post0)\n",
      "Requirement already satisfied: pytz>=2020.1 in c:\\users\\saddiqq\\anaconda3\\lib\\site-packages (from pandas) (2024.1)\n",
      "Requirement already satisfied: tzdata>=2022.7 in c:\\users\\saddiqq\\anaconda3\\lib\\site-packages (from pandas) (2023.3)\n",
      "Requirement already satisfied: six>=1.5 in c:\\users\\saddiqq\\anaconda3\\lib\\site-packages (from python-dateutil>=2.8.2->pandas) (1.16.0)\n",
      "Note: you may need to restart the kernel to use updated packages.\n"
     ]
    }
   ],
   "source": [
    "pip install pandas"
   ]
  },
  {
   "cell_type": "code",
   "execution_count": null,
   "id": "d2ed1156",
   "metadata": {},
   "outputs": [],
   "source": [
    "import pandas as pd"
   ]
  },
  {
   "cell_type": "code",
   "execution_count": null,
   "id": "def95bff",
   "metadata": {},
   "outputs": [
    {
     "data": {
      "text/plain": [
       "[{'name': 'Peter', 'Age': '40', 'Location': 'Kilimani'}]"
      ]
     },
     "execution_count": 18,
     "metadata": {},
     "output_type": "execute_result"
    }
   ],
   "source": [
    "##using lists in dictionaries as per our data\n",
    "\n",
    "[{'name': 'Peter', 'Age': '40', 'Location': 'Kilimani'}]\n"
   ]
  },
  {
   "cell_type": "code",
   "execution_count": null,
   "id": "8a68ca53",
   "metadata": {},
   "outputs": [
    {
     "name": "stdout",
     "output_type": "stream",
     "text": [
      "    name Age  Location\n",
      "0  Peter  40  Kilimani\n"
     ]
    }
   ],
   "source": [
    "users = [{'name': 'Peter', 'Age': '40', 'Location': 'Kilimani'}]\n",
    "\n",
    "df = pd.DataFrame(users)\n",
    "\n",
    "print(df)"
   ]
  },
  {
   "cell_type": "markdown",
   "id": "fd125433",
   "metadata": {},
   "source": [
    "###loops-Repeats code multiple times\n",
    "\n",
    "Each loop needs:\n",
    "Starting point – where the loop begins\n",
    "Condition or sequence – when to keep looping\n",
    "Code block – what to repeat\n",
    "\n",
    "1.for Loops- iteration-Repeats over items in a list, string, range\n",
    "\n",
    "2.while loop-Repeats while a condition is true-good when you don't know how many times to repeat\n",
    "\n",
    "\n",
    "\n",
    "\n",
    "\n"
   ]
  },
  {
   "cell_type": "code",
   "execution_count": null,
   "id": "0559d912",
   "metadata": {},
   "outputs": [],
   "source": [
    "### for loops\n",
    "##infinite-This will go on forever unless you stop it!\")\n",
    "x = 1\n",
    "while True:\n",
    "    print(\"xis\" ,x)\n",
    "x+=1\n",
    "if x >3:\n",
    "   breakpoint\n"
   ]
  },
  {
   "cell_type": "code",
   "execution_count": 18,
   "id": "f21722f0",
   "metadata": {},
   "outputs": [
    {
     "name": "stdout",
     "output_type": "stream",
     "text": [
      "27370.0\n",
      "671038.62\n",
      "10308.97\n",
      "89633.18\n",
      "45997.07\n"
     ]
    }
   ],
   "source": [
    "## If loop\n",
    "salary = [23000, 563898, 8663, 75322, 38653]\n",
    "\n",
    "for salo in salary:\n",
    "    salo_increase = salo*1.19\n",
    "    print(salo_increase)\n"
   ]
  },
  {
   "cell_type": "code",
   "execution_count": null,
   "id": "cb90d228",
   "metadata": {},
   "outputs": [
    {
     "name": "stdout",
     "output_type": "stream",
     "text": [
      "1\n",
      "2\n",
      "4\n",
      "5\n"
     ]
    }
   ],
   "source": [
    "###Skipping with continue\n",
    "num = 0\n",
    "\n",
    "while num < 5:\n",
    "    num += 1\n",
    "    if num == 3:\n",
    "        continue  # Skip number 3\n",
    "    print(num)\n"
   ]
  },
  {
   "cell_type": "code",
   "execution_count": null,
   "id": "4590ea15",
   "metadata": {},
   "outputs": [
    {
     "name": "stdout",
     "output_type": "stream",
     "text": [
      "Access granted!\n"
     ]
    }
   ],
   "source": [
    "password = \"\"\n",
    "\n",
    "while password != \"open123\":\n",
    "    password = input(\"Enter password: \")\n",
    "\n",
    "print(\"Access granted!\")\n",
    "\n",
    "\n",
    "\n"
   ]
  },
  {
   "cell_type": "code",
   "execution_count": null,
   "id": "fdf6a757",
   "metadata": {},
   "outputs": [
    {
     "name": "stdout",
     "output_type": "stream",
     "text": [
      "1\n",
      "2\n",
      "3\n",
      "4\n",
      "loop ended without a break\n"
     ]
    }
   ],
   "source": [
    "count = 1\n",
    "while count <=4:\n",
    "    print(count)\n",
    "    count += 1\n",
    "else:\n",
    "    print(\"loop ended without a break\")"
   ]
  },
  {
   "cell_type": "code",
   "execution_count": null,
   "id": "7289b2af",
   "metadata": {},
   "outputs": [
    {
     "name": "stdout",
     "output_type": "stream",
     "text": [
      "access granted.\n",
      "Wrong Pin\n",
      "access granted.\n",
      "Access granted.\n"
     ]
    }
   ],
   "source": [
    "#Real-Life Use Case: Retry Until Success\n",
    "attempts = 0\n",
    "\n",
    "while attempts <=3:\n",
    "    pin = input(\"Enter PIN:\")\n",
    "    print(\"access granted.\")\n",
    "    if pin ==\"4567\":\n",
    "\n",
    "        print(\"Access granted.\")\n",
    "        break\n",
    "    else:\n",
    "        print(\"Wrong Pin\")\n",
    "    attempts +=1\n",
    "else:\n",
    "    print(\"Too many attempts\")\n",
    "\n",
    "\n"
   ]
  },
  {
   "cell_type": "code",
   "execution_count": 46,
   "id": "31ad0ff9",
   "metadata": {},
   "outputs": [],
   "source": [
    "## If loop\n",
    "salary = [23000, 563898, 8663, 75322, 38653]\n"
   ]
  },
  {
   "cell_type": "code",
   "execution_count": 17,
   "id": "fd23cb67",
   "metadata": {},
   "outputs": [
    {
     "name": "stdout",
     "output_type": "stream",
     "text": [
      "27370.0\n",
      "671038.62\n",
      "10308.97\n",
      "89633.18\n",
      "45997.07\n"
     ]
    }
   ],
   "source": [
    "for salo in salary:\n",
    "    salo_increase = salo*1.19\n",
    "    print(salo_increase)\n"
   ]
  },
  {
   "cell_type": "code",
   "execution_count": 38,
   "id": "422d95c9",
   "metadata": {},
   "outputs": [
    {
     "name": "stdout",
     "output_type": "stream",
     "text": [
      "Get retired\n"
     ]
    }
   ],
   "source": [
    "age = 79\n",
    "if 18 < age < 26:\n",
    "    print('Big enough')\n",
    "elif 27 < age < 57:\n",
    "    print('Get married')\n",
    "elif 58 < age < 100:\n",
    "    print('Get retired')\n",
    "else:\n",
    "    print('Still babies')"
   ]
  },
  {
   "cell_type": "code",
   "execution_count": 41,
   "id": "5c55dc13",
   "metadata": {},
   "outputs": [],
   "source": [
    "# Functions can be reused\n",
    "def display_functions(list):\n",
    "    for item in list:\n",
    "        print(item)"
   ]
  },
  {
   "cell_type": "code",
   "execution_count": 49,
   "id": "acf9f7ae",
   "metadata": {},
   "outputs": [
    {
     "name": "stdout",
     "output_type": "stream",
     "text": [
      "23000\n",
      "563898\n",
      "8663\n",
      "75322\n",
      "38653\n"
     ]
    }
   ],
   "source": [
    "display_functions(salary)"
   ]
  },
  {
   "cell_type": "code",
   "execution_count": 2,
   "id": "2626d77a",
   "metadata": {},
   "outputs": [
    {
     "name": "stdout",
     "output_type": "stream",
     "text": [
      "Sum:  9\n"
     ]
    }
   ],
   "source": [
    "# function with two arguments\n",
    "\n",
    "def add_numbers(num1, num2):\n",
    "    sum = num1 + num2\n",
    "    print(\"Sum: \", sum)\n",
    "\n",
    "# function call with two values\n",
    "add_numbers(5, 4)"
   ]
  }
 ],
 "metadata": {
  "kernelspec": {
   "display_name": "base",
   "language": "python",
   "name": "python3"
  },
  "language_info": {
   "codemirror_mode": {
    "name": "ipython",
    "version": 3
   },
   "file_extension": ".py",
   "mimetype": "text/x-python",
   "name": "python",
   "nbconvert_exporter": "python",
   "pygments_lexer": "ipython3",
   "version": "3.12.7"
  }
 },
 "nbformat": 4,
 "nbformat_minor": 5
}
